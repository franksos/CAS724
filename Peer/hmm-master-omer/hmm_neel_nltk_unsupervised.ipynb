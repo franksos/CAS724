{
 "cells": [
  {
   "cell_type": "code",
   "execution_count": 1,
   "metadata": {},
   "outputs": [
    {
     "name": "stdout",
     "output_type": "stream",
     "text": [
      "True\n",
      "69390\n"
     ]
    },
    {
     "data": {
      "text/plain": [
       "['I', 's']"
      ]
     },
     "execution_count": 1,
     "metadata": {},
     "output_type": "execute_result"
    }
   ],
   "source": [
    "import pickle\n",
    "neel_train_data_file = '../src/clean_data/neel_train_v1.p'\n",
    "with open(neel_train_data_file, 'rb') as f:\n",
    "    neel_train_data = pickle.load(f)\n",
    "    \n",
    "words = []\n",
    "labels = []\n",
    "train_words = []\n",
    "for key in neel_train_data.keys():\n",
    "    temp_words = neel_train_data[key]['words']\n",
    "    temp_labels = neel_train_data[key]['labels']\n",
    "\n",
    "    if len(temp_words) != len(temp_labels):\n",
    "        print(\"error\")\n",
    "    \n",
    "    #words += temp_words\n",
    "    #labels += temp_labels\n",
    "    temp_labelled_words = []\n",
    "    for word, label in zip(temp_words, temp_labels):\n",
    "        #if label != 'O':\n",
    "        \n",
    "        temp_word = []\n",
    "        for char in word:\n",
    "            temp_word.append(char)\n",
    "        train_words.append(temp_word)\n",
    "        words.append(word) \n",
    "        #words.append(word)\n",
    "        labels.append(label)\n",
    "    '''\n",
    "    for i in range(len(temp_labels)):\n",
    "        if temp_labels[i] is not 'O':   \n",
    "            words += temp_words[i]\n",
    "            labels += temp_labels[i]\n",
    "    '''\n",
    "    \n",
    "print(len(words) == len(labels))\n",
    "print(len(words))\n",
    "train_words[0]"
   ]
  },
  {
   "cell_type": "code",
   "execution_count": 2,
   "metadata": {},
   "outputs": [
    {
     "name": "stdout",
     "output_type": "stream",
     "text": [
      "org:  1878 \tloc:  1999 \tmisc:  2570 \tper:  3178 \tO:  59765\n"
     ]
    }
   ],
   "source": [
    "org = 0\n",
    "loc = 0\n",
    "misc = 0\n",
    "per = 0\n",
    "o = 0\n",
    "for l in labels:\n",
    "    if l == 'ORG':\n",
    "        org += 1\n",
    "    elif l == 'LOC':\n",
    "        loc += 1\n",
    "    elif l == 'MISC':\n",
    "        misc += 1\n",
    "    elif l == 'PER':\n",
    "        per += 1\n",
    "    elif l == 'O':\n",
    "        o += 1\n",
    "print(\"org: \", org, \"\\tloc: \", loc, \"\\tmisc: \", misc, \"\\tper: \", per, \"\\tO: \", o)"
   ]
  },
  {
   "cell_type": "code",
   "execution_count": 3,
   "metadata": {},
   "outputs": [
    {
     "name": "stdout",
     "output_type": "stream",
     "text": [
      "1000\n",
      "100\n"
     ]
    }
   ],
   "source": [
    "test_words = words[1100:1200]\n",
    "test_labels = labels[1100:1200]\n",
    "\n",
    "words = words[0:1000]\n",
    "labels = labels[0:1000]\n",
    "train_words = train_words[0:1000]\n",
    "\n",
    "print(len(words))\n",
    "print(len(test_words))"
   ]
  },
  {
   "cell_type": "code",
   "execution_count": 4,
   "metadata": {},
   "outputs": [
    {
     "name": "stdout",
     "output_type": "stream",
     "text": [
      "org:  37 \tloc:  37 \tmisc:  29 \tper:  33 \tO:  864\n"
     ]
    }
   ],
   "source": [
    "org = 0\n",
    "loc = 0\n",
    "misc = 0\n",
    "per = 0\n",
    "o = 0\n",
    "for l in labels:\n",
    "    if l == 'ORG':\n",
    "        org += 1\n",
    "    elif l == 'LOC':\n",
    "        loc += 1\n",
    "    elif l == 'MISC':\n",
    "        misc += 1\n",
    "    elif l == 'PER':\n",
    "        per += 1\n",
    "    elif l == 'O':\n",
    "        o += 1\n",
    "print(\"org: \", org, \"\\tloc: \", loc, \"\\tmisc: \", misc, \"\\tper: \", per, \"\\tO: \", o)"
   ]
  },
  {
   "cell_type": "code",
   "execution_count": 5,
   "metadata": {},
   "outputs": [
    {
     "data": {
      "text/plain": [
       "['O', 'PER', 'LOC', 'MISC', 'ORG']"
      ]
     },
     "execution_count": 5,
     "metadata": {},
     "output_type": "execute_result"
    }
   ],
   "source": [
    "labels_set = list(set(labels))\n",
    "labels_set"
   ]
  },
  {
   "cell_type": "code",
   "execution_count": 6,
   "metadata": {},
   "outputs": [
    {
     "data": {
      "text/plain": [
       "['?',\n",
       " '#',\n",
       " 'L',\n",
       " 'h',\n",
       " 'V',\n",
       " '_',\n",
       " 'C',\n",
       " 'R',\n",
       " '1',\n",
       " '4',\n",
       " 'p',\n",
       " '@',\n",
       " 'o',\n",
       " 'Y',\n",
       " 'n',\n",
       " 'w',\n",
       " '*',\n",
       " 'b',\n",
       " 'S',\n",
       " 'u',\n",
       " 'v',\n",
       " 'g',\n",
       " '/',\n",
       " 'f',\n",
       " 'x',\n",
       " 'c',\n",
       " 'U',\n",
       " '9',\n",
       " 'K',\n",
       " '~',\n",
       " 'J',\n",
       " 'W',\n",
       " '«',\n",
       " 'T',\n",
       " 'F',\n",
       " '7',\n",
       " 'r',\n",
       " 'X',\n",
       " '5',\n",
       " '8',\n",
       " 'k',\n",
       " 'D',\n",
       " 'l',\n",
       " ';',\n",
       " '!',\n",
       " '|',\n",
       " '.',\n",
       " 'M',\n",
       " '…',\n",
       " '-',\n",
       " '3',\n",
       " '6',\n",
       " 'j',\n",
       " 'y',\n",
       " 'd',\n",
       " 'H',\n",
       " 'Q',\n",
       " 'P',\n",
       " 'I',\n",
       " 'N',\n",
       " \"'\",\n",
       " '&',\n",
       " ':',\n",
       " 'O',\n",
       " '0',\n",
       " 'z',\n",
       " 't',\n",
       " ')',\n",
       " '2',\n",
       " 'A',\n",
       " 'e',\n",
       " 'Z',\n",
       " 's',\n",
       " 'G',\n",
       " '(',\n",
       " 'q',\n",
       " '%',\n",
       " '£',\n",
       " 'E',\n",
       " 'i',\n",
       " 'm',\n",
       " 'B',\n",
       " 'a']"
      ]
     },
     "execution_count": 6,
     "metadata": {},
     "output_type": "execute_result"
    }
   ],
   "source": [
    "words_set = set()\n",
    "\n",
    "for word in train_words:\n",
    "    for char in word:\n",
    "        words_set.add(char)\n",
    "words_set = list(words_set)\n",
    "words_set"
   ]
  },
  {
   "cell_type": "markdown",
   "metadata": {},
   "source": [
    "## Unsupervised HMM"
   ]
  },
  {
   "cell_type": "code",
   "execution_count": 7,
   "metadata": {},
   "outputs": [
    {
     "name": "stdout",
     "output_type": "stream",
     "text": [
      "iteration 0 logprob -28300.0984759\n",
      "iteration 1 logprob -21474.0837845\n",
      "iteration 2 logprob -21383.6719929\n",
      "iteration 3 logprob -21293.9469851\n",
      "iteration 4 logprob -21198.6705037\n"
     ]
    }
   ],
   "source": [
    "import nltk\n",
    "trainer = nltk.tag.hmm.HiddenMarkovModelTrainer(states=labels_set, symbols=words_set)\n",
    "m = trainer.train_unsupervised(train_words, max_iterations=5)"
   ]
  },
  {
   "cell_type": "code",
   "execution_count": 8,
   "metadata": {},
   "outputs": [
    {
     "data": {
      "text/plain": [
       "[('an', 'O'),\n",
       " ('end', 'O'),\n",
       " ('to', 'O'),\n",
       " ('the', 'O'),\n",
       " ('violence', 'O'),\n",
       " ('.', 'O'),\n",
       " ('Reaction', 'O'),\n",
       " ('from', 'O'),\n",
       " ('most', 'O'),\n",
       " ('looters', 'O'),\n",
       " ('would', 'O'),\n",
       " ('be', 'O'),\n",
       " (\"'Mark\", 'O'),\n",
       " ('who', 'O'),\n",
       " ('?', 'O'),\n",
       " (\"'\", 'O'),\n",
       " ('RT', 'O'),\n",
       " ('@', 'O'),\n",
       " ('HadleyFreeman', 'O'),\n",
       " (':', 'O'),\n",
       " ('NOTHING', 'O'),\n",
       " ('on', 'O'),\n",
       " ('US', 'O'),\n",
       " ('news', 'O'),\n",
       " ('networks', 'O'),\n",
       " ('about', 'O'),\n",
       " ('London', 'O'),\n",
       " ('riots', 'O'),\n",
       " ('.', 'O'),\n",
       " ('Can', 'O'),\n",
       " ('you', 'O'),\n",
       " ('imagine', 'O'),\n",
       " ('the', 'O'),\n",
       " ('BBC', 'O'),\n",
       " ('ignoring', 'O'),\n",
       " ('BREAKING', 'O'),\n",
       " (':', 'O'),\n",
       " ('CNBC', 'O'),\n",
       " ('To', 'O'),\n",
       " ('Shut', 'O'),\n",
       " ('Down', 'O'),\n",
       " ('Due', 'O'),\n",
       " ('to', 'O'),\n",
       " ('No', 'O'),\n",
       " ('Stock', 'O'),\n",
       " ('Market', 'O'),\n",
       " ('Anymore', 'O'),\n",
       " ('East', 'O'),\n",
       " ('dulwich', 'O'),\n",
       " ('residents', 'O'),\n",
       " ('locked', 'O'),\n",
       " ('a', 'O'),\n",
       " ('looter', 'O'),\n",
       " ('in', 'O'),\n",
       " ('Londis', 'O'),\n",
       " ('.', 'O'),\n",
       " ('Power', 'O'),\n",
       " ('to', 'O'),\n",
       " ('the', 'O'),\n",
       " ('people', 'O'),\n",
       " ('New', 'O'),\n",
       " ('Wave', 'O'),\n",
       " ('of', 'O'),\n",
       " ('African', 'O'),\n",
       " ('Musicians', 'O'),\n",
       " ('Hits', 'O'),\n",
       " ('New', 'O'),\n",
       " ('York', 'O'),\n",
       " ('City', 'O'),\n",
       " (':', 'O'),\n",
       " ('By', 'O'),\n",
       " ('Nick', 'O'),\n",
       " ('Andersen', 'O'),\n",
       " ('The', 'O'),\n",
       " ('looming', 'O'),\n",
       " ('threat', 'O'),\n",
       " ('of', 'O'),\n",
       " ('a', 'O'),\n",
       " ('Sunday', 'O'),\n",
       " ('evening', 'O'),\n",
       " ('rain', 'O'),\n",
       " ('d', 'O'),\n",
       " ('...', 'O'),\n",
       " ('http', 'O'),\n",
       " (':', 'O'),\n",
       " ('//bit.ly/nfAOwP', 'O'),\n",
       " ('Sky', 'O'),\n",
       " ('News', 'O'),\n",
       " ('claiming', 'O'),\n",
       " ('the', 'O'),\n",
       " ('riots', 'O'),\n",
       " ('are', 'O'),\n",
       " ('hitting', 'O'),\n",
       " ('Leeds', 'O'),\n",
       " ('.', 'O'),\n",
       " ('There', 'O'),\n",
       " (\"'s\", 'O'),\n",
       " ('scum', 'O'),\n",
       " ('in', 'O'),\n",
       " ('my', 'O')]"
      ]
     },
     "execution_count": 8,
     "metadata": {},
     "output_type": "execute_result"
    }
   ],
   "source": [
    "m.tag(test_words[0:100])"
   ]
  },
  {
   "cell_type": "code",
   "execution_count": null,
   "metadata": {
    "collapsed": true
   },
   "outputs": [],
   "source": []
  },
  {
   "cell_type": "markdown",
   "metadata": {},
   "source": [
    "### https://github.com/probeadd/simple-nltk-pos-tagging/blob/master/Tugas%2BNLP%2BPoSTagger.ipynb"
   ]
  }
 ],
 "metadata": {
  "kernelspec": {
   "display_name": "Python 3",
   "language": "python",
   "name": "python3"
  },
  "language_info": {
   "codemirror_mode": {
    "name": "ipython",
    "version": 3
   },
   "file_extension": ".py",
   "mimetype": "text/x-python",
   "name": "python",
   "nbconvert_exporter": "python",
   "pygments_lexer": "ipython3",
   "version": "3.6.2"
  }
 },
 "nbformat": 4,
 "nbformat_minor": 2
}
